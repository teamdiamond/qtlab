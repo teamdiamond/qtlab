{
 "cells": [
  {
   "cell_type": "markdown",
   "metadata": {
    "slideshow": {
     "slide_type": "slide"
    }
   },
   "source": [
    "# Low Level Widget Tutorial"
   ]
  },
  {
   "cell_type": "markdown",
   "metadata": {},
   "source": [
    "## How do they fit into the picture?"
   ]
  },
  {
   "cell_type": "markdown",
   "metadata": {},
   "source": [
    "One of the goals of the Jupyter Notebook is to minimize the “distance” the user is from their data.  This means allowing the user to quickly view and manipulate the data.  "
   ]
  },
  {
   "cell_type": "markdown",
   "metadata": {
    "collapsed": false
   },
   "source": [
    "| ![](images/inputoutput.PNG)                                                                           | ![](images/widgets.PNG)                                                                                                                      |\n",
    "|-------------------------------------------------------------------------------------------------------|----------------------------------------------------------------------------------------------------------------------------------------------|\n",
    "| Before the widgets, this was just the segmentation of code and results from executing those segments. | Widgets further decrease the distance between the user and their data by allowing UI interactions to directly manipulate data in the kernel. |"
   ]
  },
  {
   "cell_type": "markdown",
   "metadata": {
    "collapsed": true,
    "slideshow": {
     "slide_type": "slide"
    }
   },
   "source": [
    "## How?"
   ]
  },
  {
   "cell_type": "markdown",
   "metadata": {},
   "source": [
    "Jupyter interactive widgets are interactive elements, think sliders, textboxes, buttons, that have representations both in the kernel (place where code is executed) and the front-end (the Notebook web interface).  To do this, a clean, well abstracted communication layer must exist."
   ]
  },
  {
   "cell_type": "markdown",
   "metadata": {
    "slideshow": {
     "slide_type": "slide"
    }
   },
   "source": [
    "## Comms"
   ]
  },
  {
   "cell_type": "markdown",
   "metadata": {},
   "source": [
    "This is where Jupyter notebook “comms” come into play.  The comm API is a symmetric, asynchronous, fire and forget style messaging API.  It allows the programmer to send JSON-able blobs between the front-end and the back-end.  The comm API hides the complexity of the webserver, ZMQ, and websockets."
   ]
  },
  {
   "cell_type": "markdown",
   "metadata": {},
   "source": [
    "![](images/transport.svg)"
   ]
  },
  {
   "cell_type": "markdown",
   "metadata": {
    "collapsed": true,
    "slideshow": {
     "slide_type": "slide"
    }
   },
   "source": [
    "## Synchronized state"
   ]
  },
  {
   "cell_type": "markdown",
   "metadata": {},
   "source": [
    "Using comms, the widget base layer is designed to keep state in sync.  In the kernel, a Widget instance exists.  This Widget instance has a corresponding WidgetModel instance in the front-end.  The Widget and WidgetModel store the same state.  The widget framework ensures both models are kept in sync with eachother.  If the WidgetModel is changed in the front-end, the Widget receives the same change in the kernel.  Vise versa, if the Widget in the kernel is changed, the WidgetModel in the front-end receives the same change.  There is no single source of truth, both models have the same precedence.  Although a notebook has the notion of cells, neither Widget or WidgetModel are bound to any single cell."
   ]
  },
  {
   "cell_type": "markdown",
   "metadata": {},
   "source": [
    "![](images/state_sync.svg)"
   ]
  },
  {
   "cell_type": "markdown",
   "metadata": {
    "slideshow": {
     "slide_type": "slide"
    }
   },
   "source": [
    "## Models and Views"
   ]
  },
  {
   "cell_type": "markdown",
   "metadata": {},
   "source": [
    "In order for the user to interact with widgets on a cell by cell basis, the WidgetModels are represented by WidgetViews.  Any single WidgetView is bound to a single cell.  Multiple WidgetViews can be linked to a single WidgetModel.  This is how you can redisplay the same Widget multiple times and it still works.  To accomplish this, the widget framework uses Backbone.js.  In a traditional MVC framework, the WidgetModel is the (M)odel, and the WidgetView is both the (V)iew and (C)ontroller. Meaning that, the views both display the state of the model and manipulate it.  Think about a slider control, it both displays the value and allows the user to change the value by dragging the slide handle."
   ]
  },
  {
   "cell_type": "code",
   "execution_count": 1,
   "metadata": {
    "collapsed": false,
    "scrolled": true
   },
   "outputs": [
    {
     "data": {
      "image/png": "[encoded data removed]",
      "text/html": [
       "<img src=data:image/png;base64,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 class=\"jupyter-widget\">\n",
       "<script type=\"application/vnd.jupyter-embedded-widgets\">[{},{\"min\":0,\"step\":1,\"max\":100,\"layout\":\"IPY_MODEL_09fb0c22a5644f57be46fedd421feeb2\"}]</script>"
      ]
     },
     "metadata": {
      "isWidgetSnapshot": true
     },
     "output_type": "display_data"
    },
    {
     "data": {
      "application/vnd.jupyter.widget": "dacbc3e782a847efb59109ee1e9e5949"
     },
     "metadata": {},
     "output_type": "display_data"
    },
    {
     "data": {
      "application/vnd.jupyter.widget": "dacbc3e782a847efb59109ee1e9e5949"
     },
     "metadata": {},
     "output_type": "display_data"
    }
   ],
   "source": [
    "from ipywidgets import *\n",
    "from IPython.display import display\n",
    "w = IntSlider()\n",
    "display(w, w)"
   ]
  },
  {
   "cell_type": "code",
   "execution_count": 2,
   "metadata": {
    "collapsed": false,
    "scrolled": true
   },
   "outputs": [
    {
     "data": {
      "image/png": "[encoded data removed]",
      "text/html": [
       "<img src=data:image/png;base64,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 class=\"jupyter-widget\">\n",
       "<script type=\"application/vnd.jupyter-embedded-widgets\">[{},{\"min\":0,\"step\":1,\"max\":100,\"layout\":\"IPY_MODEL_09fb0c22a5644f57be46fedd421feeb2\"}]</script>"
      ]
     },
     "metadata": {
      "isWidgetSnapshot": true
     },
     "output_type": "display_data"
    },
    {
     "data": {
      "application/vnd.jupyter.widget": "dacbc3e782a847efb59109ee1e9e5949"
     },
     "metadata": {},
     "output_type": "display_data"
    }
   ],
   "source": [
    "display(w)"
   ]
  },
  {
   "cell_type": "markdown",
   "metadata": {},
   "source": [
    "![](images/assoc.svg)"
   ]
  },
  {
   "cell_type": "markdown",
   "metadata": {
    "slideshow": {
     "slide_type": "slide"
    }
   },
   "source": [
    "## Code execution"
   ]
  },
  {
   "cell_type": "markdown",
   "metadata": {},
   "source": [
    "The user code required to display a simple FloatSlider widget is:\n",
    "\n",
    "```python\n",
    "from ipywidgets import FloatSlider\n",
    "from IPython.display import display\n",
    "slider = FloatSlider()\n",
    "display(slider)\n",
    "```\n",
    "\n",
    "In order to understand how a widget is displayed, one must understand how code is executed in the Notebook.  Execution begins in the code cell.  A user event triggers the code cell to send an evaluate code message to the kernel, containing all of the code in the code cell.  This message is given a GUID, which the front-end associates to the code cell, and remembers it (**important**)."
   ]
  },
  {
   "cell_type": "markdown",
   "metadata": {},
   "source": [
    "![](images/execute.svg)"
   ]
  },
  {
   "cell_type": "markdown",
   "metadata": {
    "slideshow": {
     "slide_type": "subslide"
    }
   },
   "source": [
    "Once that message is received by the kernel, the kernel immediately sends the front-end an “I’m busy” status message.  The kernel then proceeds to execute the code."
   ]
  },
  {
   "cell_type": "markdown",
   "metadata": {},
   "source": [
    "![](images/busy.svg)"
   ]
  },
  {
   "cell_type": "markdown",
   "metadata": {
    "slideshow": {
     "slide_type": "slide"
    }
   },
   "source": [
    "## Model construction"
   ]
  },
  {
   "cell_type": "markdown",
   "metadata": {},
   "source": [
    "When a Widget is constructed in the kernel, the first thing that happens is that a comm is constructed and associated with the widget.  When the comm is constructed, it is given a GUID (globally unique identifier).  A comm-open message is sent to the front-end, with metadata stating that the comm is a widget comm and what the corresponding WidgetModel class is.  "
   ]
  },
  {
   "cell_type": "markdown",
   "metadata": {},
   "source": [
    "![](images/widgetcomm.svg)"
   ]
  },
  {
   "cell_type": "markdown",
   "metadata": {
    "slideshow": {
     "slide_type": "subslide"
    }
   },
   "source": [
    "The WidgetModel class is specified my module and name.  Require.js is then used to asynchronously load the WidgetModel class. The message triggers a comm to be created in the front-end with same GUID as the back-end.  Then, the new comm gets passed into the WidgetManager in the front-end, which creates an instance of the WidgetModel class, linked to the comm.  Both the Widget and WidgetModel repurpose the comm GUID as their own."
   ]
  },
  {
   "cell_type": "markdown",
   "metadata": {},
   "source": [
    "![](images/widgetcomm2.svg)"
   ]
  },
  {
   "cell_type": "markdown",
   "metadata": {
    "slideshow": {
     "slide_type": "subslide"
    }
   },
   "source": [
    "Asynchronously, the kernel sends an initial state push, containing all of the initial state of the Widget, to the front-end, immediately after the comm-open message.  This state message may or may not be received by the time the WidgetModel is constructed.  Regardless, the message is cached and gets processed once the WidgetModel has been constructed.  The initial state push is what causes the WidgetModel in the front-end to become in sync with the Widget in the kernel."
   ]
  },
  {
   "cell_type": "markdown",
   "metadata": {},
   "source": [
    "![](images/state.svg)"
   ]
  },
  {
   "cell_type": "markdown",
   "metadata": {
    "slideshow": {
     "slide_type": "slide"
    }
   },
   "source": [
    "## Displaying a view"
   ]
  },
  {
   "cell_type": "markdown",
   "metadata": {},
   "source": [
    "After the Widget has been constructed, it can be displayed.  Calling `display(widgetinstance)` causes a specially named repr method in the widget to run.  This method sends a message to the front-end that tells the front-end to construct and display a widget view.  The message is in response to the original code execution message, and the original message’s GUID is stored in the new message’s header.  When the front-end receives the message, it uses the original messsage’s GUID to determine what cell the new view should belong to.  Then, the view is created, using the WidgetView class specified in the WidgetModel’s state.  The same require.js method is used to load the view class.  Once the class is loaded, an instance of it is constructed, displayed in the right cell, and registers listeners for changes of the model."
   ]
  },
  {
   "cell_type": "markdown",
   "metadata": {},
   "source": [
    "![](images/display.svg)"
   ]
  },
  {
   "cell_type": "markdown",
   "metadata": {
    "slideshow": {
     "slide_type": "slide"
    }
   },
   "source": [
    "## Widget skeleton"
   ]
  },
  {
   "cell_type": "code",
   "execution_count": null,
   "metadata": {
    "collapsed": false,
    "scrolled": true
   },
   "outputs": [],
   "source": [
    "%%javascript\n",
    "this.model.get('count');\n",
    "\n",
    "\n",
    "this.model.set('count', 999);\n",
    "this.touch();\n",
    "\n",
    "/////////////////////////////////\n",
    "\n",
    "this.colorpicker = document.createElement('input');\n",
    "this.colorpicker.setAttribute('type', 'color');\n",
    "this.el.appendChild(this.colorpicker);\n"
   ]
  },
  {
   "cell_type": "markdown",
   "metadata": {},
   "source": [
    "Since widgets exist in both the front-end and kernel, they consist of both Python (if the kernel is IPython) and Javascript code.  A boilerplate widget can be seen below:\n",
    "\n",
    "Python:\n",
    "```python\n",
    "from ipywidgets import DOMWidget\n",
    "from traitlets import Unicode, Int\n",
    " \n",
    "class MyWidget(DOMWidget):\n",
    "\t_view_module = Unicode('nbextensions/mywidget/mywidget').tag(sync=True)\n",
    "\t_view_name = Unicode('MyWidgetView').tag(sync=True)\n",
    "\tcount = Int().tag(sync=True)\n",
    "```\n",
    "\n",
    "JavaScript:\n",
    "```js\n",
    "define(['jupyter-js-widgets'], function(widgets) {\n",
    "\tvar MyWidgetView = widgets.DOMWidgetView.extend({\n",
    "    \trender: function() {\n",
    "        \tMyWidgetView.__super__.render.apply(this, arguments);\n",
    "        \tthis._count_changed();\n",
    "        \tthis.listenTo(this.model, 'change:count', this._count_changed, this);\n",
    "    \t},\n",
    " \n",
    "    \t_count_changed: function() {\n",
    "        \tvar old_value = this.model.previous('count');\n",
    "        \tvar new_value = this.model.get('count');\n",
    "        \tthis.el.textContent = String(old_value) + ' -> ' + String(new_value);\n",
    "    \t}\n",
    "\t});\n",
    " \n",
    "\treturn {\n",
    "    \tMyWidgetView: MyWidgetView\n",
    "\t}\n",
    "});\n",
    "```\n",
    "\n",
    "Describing the Python:  \n",
    "\n",
    "The base widget classes are `DOMWidget` and `Widget`.\n",
    "\n",
    "`_view_module` and `_view_name` are how the front-end knows what view class to construct for the model.\n",
    "\n",
    "`sync=True` is what makes the traitlets behave like state.\n",
    "\n",
    "A similarly named `_model_module` and `_model_name` can be used to specify the corresponding WidgetModel.\n",
    "\n",
    "`count` is an example of a custom piece of state.\n",
    "\n",
    "Describing the JavaScript:  \n",
    "\n",
    "The `define` call asynchronously loads the specified dependencies, and then passes them in as arguments into the callback.  Here, the only dependency is the base widget module are loaded.\n",
    "\n",
    "Custom views inherit from either `DOMWidgetView` or `WidgetView`.\n",
    "\n",
    "Likewise, custom models inherit from `WidgetModel`.\n",
    "\n",
    "The `render` method is what is called to render the view’s contents.  If the view is a `DOMWidgetView`, the `.el` attribute contains the DOM element that will be displayed on the page.\n",
    "\n",
    "`.listenTo` allows the view to listen to properties of the model for changes.\n",
    "\n",
    "`_count_changed` is an example of a method that could be used to handle model changes.\n",
    "\n",
    "`this.model` is how the corresponding model can be accessed.\n",
    "\n",
    "`this.model.previous` will get the previous value of the trait.\n",
    "\n",
    "`this.model.get` will get the current value of the trait.\n",
    "\n",
    "`this.model.set` followed by `this.save_changes();` changes the model.  The view method `save_changes` is needed to associate the changes with the current view, thus associating any response messages with the view’s cell.\n",
    "\n",
    "The dictionary returned is the public members of the module.\n"
   ]
  },
  {
   "cell_type": "markdown",
   "metadata": {
    "slideshow": {
     "slide_type": "slide"
    }
   },
   "source": [
    "## Installation"
   ]
  },
  {
   "cell_type": "markdown",
   "metadata": {},
   "source": [
    "Because the API of any given widget **must exist in the kernel**, the kernel is the natural place for widgets to be installed.  However, **kernels, as of now, don’t host static assets**.  Instead, static assets are hosted by the webserver, which is the entity that sits between the kernel and the front-end.  This is a problem, because it means widgets have components that need to be **installed both in the webserver and the kernel**.  The kernel components are easy to install, because you can rely on the language’s built in tools.  The static assets for the webserver complicate things, because an extra step is required to let the webserver know where the assets are."
   ]
  },
  {
   "cell_type": "markdown",
   "metadata": {
    "slideshow": {
     "slide_type": "slide"
    }
   },
   "source": [
    "## Static assets"
   ]
  },
  {
   "cell_type": "markdown",
   "metadata": {},
   "source": [
    "Static assets can be made available to the Jupyter notebook webserver a few ways:\n",
    "1.       Custom.js: \n",
    "By placing your static assets inside the custom directory, alongside custom.js, you can load them within custom.js.  The problem with deployment utilizing this method is that the users will have to manually edit their custom.js file.\n",
    "2.       Server extension: \n",
    "You can write a server extension which adds a new handler to the server that hosts your static content.  However, the server extension needs to be registered using a config file, which means the user needs to edit it by hand.   Also, code needs to be written in custom.js to load the static content.\n",
    "3.       Notebook extension: \n",
    "By placing your static assets inside the nbextensions directory, they are made available by the `nbextensions/` handler.  Nbextensions also have a mechanism for running your code on page load.  This can be set using the install-nbextension command.\n",
    " \n",
    "Notebook extensions are the best solution, for now, because they can be used without manual user intervention."
   ]
  },
  {
   "cell_type": "markdown",
   "metadata": {
    "slideshow": {
     "slide_type": "slide"
    }
   },
   "source": [
    "## Distribution"
   ]
  },
  {
   "cell_type": "markdown",
   "metadata": {},
   "source": [
    "Integrating the static assets with the kernel code is tricky.  Ideally, the user would be able to execute a single command to install the package, kernel and static assets included. "
   ]
  },
  {
   "cell_type": "markdown",
   "metadata": {},
   "source": [
    "A template project is available in the form of a cookie cutter: https://github.com/jupyter/widget-cookiecutter\n",
    "\n",
    "This project is meant to help custom widget authors get started with the packaging and the distribution of Jupyter interactive widgets.\n",
    "\n",
    "It produces a project for a Jupyter interactive widget library following the current best practices for using interactive widgets. An implementation for a placeholder \"Hello World\" widget is provided."
   ]
  }
 ],
 "metadata": {
  "kernelspec": {
   "display_name": "Python 3",
   "language": "python",
   "name": "python3"
  },
  "language_info": {
   "codemirror_mode": {
    "name": "ipython",
    "version": 3
   },
   "file_extension": ".py",
   "mimetype": "text/x-python",
   "name": "python",
   "nbconvert_exporter": "python",
   "pygments_lexer": "ipython3",
   "version": "3.5.2"
  },
  "widgets": {
   "state": {
    "dacbc3e782a847efb59109ee1e9e5949": {
     "views": [
      {
       "cell_index": 14
      },
      {
       "cell_index": 14
      },
      {
       "cell_index": 15
      }
     ]
    }
   },
   "version": "2.0.0-dev"
  }
 },
 "nbformat": 4,
 "nbformat_minor": 1
}
