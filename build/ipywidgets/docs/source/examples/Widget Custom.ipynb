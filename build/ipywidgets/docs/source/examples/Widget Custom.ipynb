{
 "cells": [
  {
   "cell_type": "markdown",
   "metadata": {
     "nbsphinx": "hidden"
   },
   "source": [
    "[Index](Index.ipynb) - [Back](Widget Styling.ipynb)"
   ]
  },
  {
   "cell_type": "code",
   "execution_count": 1,
   "metadata": {
    "collapsed": false
   },
   "outputs": [],
   "source": [
    "from __future__ import print_function"
   ]
  },
  {
   "cell_type": "markdown",
   "metadata": {
    "slideshow": {
     "slide_type": "slide"
    }
   },
   "source": [
    "# Building a Custom Widget - Hello World"
   ]
  },
  {
   "cell_type": "markdown",
   "metadata": {},
   "source": [
    "The widget framework is built on top of the Comm framework (short for communication).  The Comm framework is a framework that allows the kernel to send/receive JSON messages to/from the front end (as seen below).\n",
    "\n",
    "![Widget layer](images/WidgetArch.png)\n",
    "\n",
    "To create a custom widget, you need to define the widget both in the browser and in the python kernel."
   ]
  },
  {
   "cell_type": "markdown",
   "metadata": {
    "slideshow": {
     "slide_type": "slide"
    }
   },
   "source": [
    "## Building a Custom Widget"
   ]
  },
  {
   "cell_type": "markdown",
   "metadata": {},
   "source": [
    "To get started, you'll create a simple hello world widget.  Later you'll build on this foundation to make more complex widgets."
   ]
  },
  {
   "cell_type": "markdown",
   "metadata": {
    "slideshow": {
     "slide_type": "slide"
    }
   },
   "source": [
    "## Python Kernel"
   ]
  },
  {
   "cell_type": "markdown",
   "metadata": {},
   "source": [
    "### DOMWidget and Widget"
   ]
  },
  {
   "cell_type": "markdown",
   "metadata": {},
   "source": [
    "To define a widget, you must inherit from the Widget or DOMWidget base class.  If you intend for your widget to be displayed in the Jupyter notebook, you'll want to inherit from the DOMWidget.  The DOMWidget class itself inherits from the Widget class.  The Widget class is useful for cases in which the Widget is not meant to be displayed directly in the notebook, but instead as a child of another rendering environment.  For example, if you wanted to create a three.js widget (a popular WebGL library), you would implement the rendering window as a DOMWidget and any 3D objects or lights meant to be rendered in that window as Widgets."
   ]
  },
  {
   "cell_type": "markdown",
   "metadata": {
    "slideshow": {
     "slide_type": "slide"
    }
   },
   "source": [
    "### _view_name"
   ]
  },
  {
   "cell_type": "markdown",
   "metadata": {},
   "source": [
    "Inheriting from the DOMWidget does not tell the widget framework what front end widget to associate with your back end widget.\n",
    "\n",
    "Instead, you must tell it yourself by defining specially named trait attributes, `_view_name` and `_view_module` (as seen below) and optionally `_model_name` and `_model_module`."
   ]
  },
  {
   "cell_type": "code",
   "execution_count": 2,
   "metadata": {
    "collapsed": false
   },
   "outputs": [],
   "source": [
    "import ipywidgets as widgets\n",
    "from traitlets import Unicode, validate\n",
    "\n",
    "\n",
    "class HelloWidget(widgets.DOMWidget):\n",
    "    _view_name = Unicode('HelloView').tag(sync=True)\n",
    "    _view_module = Unicode('hello').tag(sync=True)"
   ]
  },
  {
   "cell_type": "markdown",
   "metadata": {
    "slideshow": {
     "slide_type": "slide"
    }
   },
   "source": [
    "### sync=True traitlets"
   ]
  },
  {
   "cell_type": "markdown",
   "metadata": {},
   "source": [
    "Traitlets is an IPython library for defining type-safe properties on configurable objects.  For this tutorial you do not need to worry about the *configurable* piece of the traitlets machinery.   The `sync=True` keyword argument tells the widget framework to handle synchronizing that value to the browser.  Without `sync=True`, the browser would have no knowledge of `_view_name` or `_view_module`."
   ]
  },
  {
   "cell_type": "markdown",
   "metadata": {
    "slideshow": {
     "slide_type": "slide"
    }
   },
   "source": [
    "### Other traitlet types"
   ]
  },
  {
   "cell_type": "markdown",
   "metadata": {},
   "source": [
    "Unicode, used for _view_name, is not the only Traitlet type, there are many more some of which are listed below:  \n",
    "\n",
    "- Any\n",
    "- Bool\n",
    "- Bytes\n",
    "- CBool\n",
    "- CBytes\n",
    "- CComplex\n",
    "- CFloat\n",
    "- CInt\n",
    "- CLong\n",
    "- CRegExp\n",
    "- CUnicode\n",
    "- CaselessStrEnum\n",
    "- Complex\n",
    "- Dict\n",
    "- DottedObjectName\n",
    "- Enum\n",
    "- Float\n",
    "- FunctionType\n",
    "- Instance\n",
    "- InstanceType\n",
    "- Int\n",
    "- List\n",
    "- Long\n",
    "- Set\n",
    "- TCPAddress\n",
    "- Tuple\n",
    "- Type\n",
    "- Unicode\n",
    "- Union\n",
    "\n",
    "\n",
    "Not all of these traitlets can be synchronized across the network, only the JSON-able traits and Widget instances will be synchronized."
   ]
  },
  {
   "cell_type": "markdown",
   "metadata": {
    "slideshow": {
     "slide_type": "slide"
    }
   },
   "source": [
    "## Front end (JavaScript)"
   ]
  },
  {
   "cell_type": "markdown",
   "metadata": {},
   "source": [
    "### Models and views"
   ]
  },
  {
   "cell_type": "markdown",
   "metadata": {},
   "source": [
    "The IPython widget framework front end relies heavily on [Backbone.js](http://backbonejs.org/).  Backbone.js is an MVC (model view controller) framework.  Widgets defined in the back end are automatically synchronized with generic Backbone.js models in the front end.  The traitlets are added to the front end instance automatically on first state push.  The `_view_name` trait that you defined earlier is used by the widget framework to create the corresponding Backbone.js view and link that view to the model."
   ]
  },
  {
   "cell_type": "markdown",
   "metadata": {
    "slideshow": {
     "slide_type": "slide"
    }
   },
   "source": [
    "### Import jupyter-js-widgets"
   ]
  },
  {
   "cell_type": "markdown",
   "metadata": {},
   "source": [
    "You first need to import the `jupyter-js-widgets` module. To import modules, use the `define` method of [require.js](http://requirejs.org/) (as seen below)."
   ]
  },
  {
   "cell_type": "code",
   "execution_count": 3,
   "metadata": {
    "collapsed": false
   },
   "outputs": [
    {
     "data": {
      "application/javascript": [
       "define('hello', [\"jupyter-js-widgets\"], function(widgets) {\n",
       "    \n",
       "});"
      ],
      "text/plain": [
       "<IPython.core.display.Javascript object>"
      ]
     },
     "metadata": {},
     "output_type": "display_data"
    }
   ],
   "source": [
    "%%javascript\n",
    "define('hello', [\"jupyter-js-widgets\"], function(widgets) {\n",
    "    \n",
    "});"
   ]
  },
  {
   "cell_type": "markdown",
   "metadata": {
    "slideshow": {
     "slide_type": "slide"
    }
   },
   "source": [
    "### Define the view"
   ]
  },
  {
   "cell_type": "markdown",
   "metadata": {},
   "source": [
    "Next define your widget view class.  Inherit from the `DOMWidgetView` by using the `.extend` method."
   ]
  },
  {
   "cell_type": "code",
   "execution_count": 4,
   "metadata": {
    "collapsed": false
   },
   "outputs": [
    {
     "data": {
      "application/javascript": [
       "require.undef('hello');\n",
       "\n",
       "define('hello', [\"jupyter-js-widgets\"], function(widgets) {\n",
       "    \n",
       "    // Define the HelloView\n",
       "    var HelloView = widgets.DOMWidgetView.extend({\n",
       "        \n",
       "    });\n",
       "\n",
       "    return {\n",
       "        HelloView: HelloView\n",
       "    }\n",
       "});"
      ],
      "text/plain": [
       "<IPython.core.display.Javascript object>"
      ]
     },
     "metadata": {},
     "output_type": "display_data"
    }
   ],
   "source": [
    "%%javascript\n",
    "require.undef('hello');\n",
    "\n",
    "define('hello', [\"jupyter-js-widgets\"], function(widgets) {\n",
    "    \n",
    "    // Define the HelloView\n",
    "    var HelloView = widgets.DOMWidgetView.extend({\n",
    "        \n",
    "    });\n",
    "\n",
    "    return {\n",
    "        HelloView: HelloView\n",
    "    }\n",
    "});"
   ]
  },
  {
   "cell_type": "markdown",
   "metadata": {
    "slideshow": {
     "slide_type": "slide"
    }
   },
   "source": [
    "### Render method"
   ]
  },
  {
   "cell_type": "markdown",
   "metadata": {},
   "source": [
    "Lastly, override the base `render` method of the view to define custom rendering logic.  A handle to the widget's default DOM element can be acquired via `this.el`.  The `el` property is the DOM element associated with the view."
   ]
  },
  {
   "cell_type": "code",
   "execution_count": 5,
   "metadata": {
    "collapsed": false
   },
   "outputs": [
    {
     "data": {
      "application/javascript": [
       "require.undef('hello');\n",
       "\n",
       "define('hello', [\"jupyter-js-widgets\"], function(widgets) {\n",
       "    \n",
       "    var HelloView = widgets.DOMWidgetView.extend({\n",
       "        \n",
       "        // Render the view.\n",
       "        render: function() { \n",
       "            this.el.textContent = 'Hello World!'; \n",
       "        },\n",
       "    });\n",
       "    \n",
       "    return {\n",
       "        HelloView: HelloView\n",
       "    };\n",
       "});"
      ],
      "text/plain": [
       "<IPython.core.display.Javascript object>"
      ]
     },
     "metadata": {},
     "output_type": "display_data"
    }
   ],
   "source": [
    "%%javascript\n",
    "require.undef('hello');\n",
    "\n",
    "define('hello', [\"jupyter-js-widgets\"], function(widgets) {\n",
    "    \n",
    "    var HelloView = widgets.DOMWidgetView.extend({\n",
    "        \n",
    "        // Render the view.\n",
    "        render: function() { \n",
    "            this.el.textContent = 'Hello World!'; \n",
    "        },\n",
    "    });\n",
    "    \n",
    "    return {\n",
    "        HelloView: HelloView\n",
    "    };\n",
    "});"
   ]
  },
  {
   "cell_type": "markdown",
   "metadata": {
    "slideshow": {
     "slide_type": "slide"
    }
   },
   "source": [
    "## Test"
   ]
  },
  {
   "cell_type": "markdown",
   "metadata": {},
   "source": [
    "You should be able to display your widget just like any other widget now."
   ]
  },
  {
   "cell_type": "code",
   "execution_count": 6,
   "metadata": {
    "collapsed": false
   },
   "outputs": [
    {
     "data": {
      "image/png": "[encoded data removed]",
      "text/html": [
       "<img src=data:image/png;base64,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 class=\"jupyter-widget\">\n",
       "<script type=\"application/vnd.jupyter-embedded-widgets\">[{},{\"_view_name\":\"HelloView\",\"_model_name\":\"DOMWidgetModel\",\"_view_module\":\"hello\",\"layout\":\"IPY_MODEL_418174d045df493abd20e976cb41183d\"}]</script>"
      ]
     },
     "metadata": {
      "isWidgetSnapshot": true
     },
     "output_type": "display_data"
    },
    {
     "data": {
      "application/vnd.jupyter.widget": "1ae39d69c79e4ecc928971451895aa3d"
     },
     "metadata": {},
     "output_type": "display_data"
    }
   ],
   "source": [
    "HelloWidget()"
   ]
  },
  {
   "cell_type": "markdown",
   "metadata": {
    "slideshow": {
     "slide_type": "slide"
    }
   },
   "source": [
    "## Making the widget stateful"
   ]
  },
  {
   "cell_type": "markdown",
   "metadata": {},
   "source": [
    "There is not much that you can do with the above example that you can't do with the IPython display framework.  To change this, you will make the widget stateful.  Instead of displaying a static \"hello world\" message, it will display a string set by the back end.  First you need to add a traitlet in the back end.  Use the name of `value` to stay consistent with the rest of the widget framework and to allow your widget to be used with interact."
   ]
  },
  {
   "cell_type": "code",
   "execution_count": 7,
   "metadata": {
    "collapsed": false
   },
   "outputs": [],
   "source": [
    "class HelloWidget(widgets.DOMWidget):\n",
    "    _view_name = Unicode('HelloView').tag(sync=True)\n",
    "    _view_module = Unicode('hello').tag(sync=True)\n",
    "    value = Unicode('Hello World!').tag(sync=True)"
   ]
  },
  {
   "cell_type": "markdown",
   "metadata": {
    "slideshow": {
     "slide_type": "slide"
    }
   },
   "source": [
    "### Accessing the model from the view"
   ]
  },
  {
   "cell_type": "markdown",
   "metadata": {},
   "source": [
    "To access the model associate with a view instance, use the `model` property of the view.  `get` and `set` methods are used to interact with the Backbone model.  `get` is trivial, however you have to be careful when using `set`.  After calling the model `set` you need call the view's `touch` method.  This associates the `set` operation with a particular view so output will be routed to the correct cell.  The model also has an `on` method which allows you to listen to events triggered by the model (like value changes)."
   ]
  },
  {
   "cell_type": "markdown",
   "metadata": {
    "slideshow": {
     "slide_type": "slide"
    }
   },
   "source": [
    "### Rendering model contents"
   ]
  },
  {
   "cell_type": "markdown",
   "metadata": {},
   "source": [
    "By replacing the string literal with a call to `model.get`, the view will now display the value of the back end upon display.  However, it will not update itself to a new value when the value changes."
   ]
  },
  {
   "cell_type": "code",
   "execution_count": 8,
   "metadata": {
    "collapsed": false
   },
   "outputs": [
    {
     "data": {
      "application/javascript": [
       "require.undef('hello');\n",
       "\n",
       "define('hello', [\"jupyter-js-widgets\"], function(widgets) {\n",
       "    \n",
       "    var HelloView = widgets.DOMWidgetView.extend({\n",
       "        \n",
       "        render: function() { \n",
       "            this.el.textContent = this.model.get('value'); \n",
       "        },\n",
       "    });\n",
       "    \n",
       "    return {\n",
       "        HelloView : HelloView\n",
       "    };\n",
       "});"
      ],
      "text/plain": [
       "<IPython.core.display.Javascript object>"
      ]
     },
     "metadata": {},
     "output_type": "display_data"
    }
   ],
   "source": [
    "%%javascript\n",
    "require.undef('hello');\n",
    "\n",
    "define('hello', [\"jupyter-js-widgets\"], function(widgets) {\n",
    "    \n",
    "    var HelloView = widgets.DOMWidgetView.extend({\n",
    "        \n",
    "        render: function() { \n",
    "            this.el.textContent = this.model.get('value'); \n",
    "        },\n",
    "    });\n",
    "    \n",
    "    return {\n",
    "        HelloView : HelloView\n",
    "    };\n",
    "});"
   ]
  },
  {
   "cell_type": "markdown",
   "metadata": {
    "slideshow": {
     "slide_type": "slide"
    }
   },
   "source": [
    "### Dynamic updates"
   ]
  },
  {
   "cell_type": "markdown",
   "metadata": {},
   "source": [
    "To get the view to update itself dynamically, register a function to update the view's value when the model's `value` property changes.  This can be done using the `model.on` method.  The `on` method takes three parameters, an event name, callback handle, and callback context.   The Backbone event named `change` will fire whenever the model changes.  By appending `:value` to it, you tell Backbone to only listen to the change event of the `value` property (as seen below)."
   ]
  },
  {
   "cell_type": "code",
   "execution_count": 9,
   "metadata": {
    "collapsed": false
   },
   "outputs": [
    {
     "data": {
      "application/javascript": [
       "require.undef('hello');\n",
       "\n",
       "define('hello', [\"jupyter-js-widgets\"], function(widgets) {\n",
       "    \n",
       "    var HelloView = widgets.DOMWidgetView.extend({\n",
       "        \n",
       "        render: function() { \n",
       "            this.value_changed();\n",
       "            this.model.on('change:value', this.value_changed, this);\n",
       "        },\n",
       "        \n",
       "        value_changed: function() {\n",
       "            this.el.textContent = this.model.get('value'); \n",
       "        },\n",
       "    });\n",
       "    \n",
       "    return {\n",
       "        HelloView : HelloView\n",
       "    };\n",
       "});"
      ],
      "text/plain": [
       "<IPython.core.display.Javascript object>"
      ]
     },
     "metadata": {},
     "output_type": "display_data"
    }
   ],
   "source": [
    "%%javascript\n",
    "require.undef('hello');\n",
    "\n",
    "define('hello', [\"jupyter-js-widgets\"], function(widgets) {\n",
    "    \n",
    "    var HelloView = widgets.DOMWidgetView.extend({\n",
    "        \n",
    "        render: function() { \n",
    "            this.value_changed();\n",
    "            this.model.on('change:value', this.value_changed, this);\n",
    "        },\n",
    "        \n",
    "        value_changed: function() {\n",
    "            this.el.textContent = this.model.get('value'); \n",
    "        },\n",
    "    });\n",
    "    \n",
    "    return {\n",
    "        HelloView : HelloView\n",
    "    };\n",
    "});"
   ]
  },
  {
   "cell_type": "markdown",
   "metadata": {
    "slideshow": {
     "slide_type": "slide"
    }
   },
   "source": [
    "## Test"
   ]
  },
  {
   "cell_type": "code",
   "execution_count": 10,
   "metadata": {
    "collapsed": false
   },
   "outputs": [
    {
     "data": {
      "image/png": "[encoded data removed]",
      "text/html": [
       "<img src=data:image/png;base64,iVBORw0KGgoAAAANSUhEUgAAA/IAAAAfCAYAAABEUPb5AAAEm0lEQVR4Xu3dy8vtUxzH8feRg8RMIgpF+QMwUSIDA9cQEqUkwlDKJQmlKAyQuynKVC4luQyUu1wLAwNCyqWk3Fq1dj3pSLtnn3a78/rV7hnstddaz2v9Jp+91u+7d+QiQIAAAQIECBAgQIAAAQIENkZgx8bM1EQJECBAgAABAgQIECBAgACBBHk3AQECBAgQIECAAAECBAgQ2CABQX6DFstUCRAgQIAAAQIECBAgQICAIO8eIECAAAECBAgQIECAAAECGyQgyG/QYpkqAQIECBAgQIAAAQIECBAQ5N0DBAgQIECAAAECBAgQIEBggwQE+Q1aLFMlQIAAAQIECBAgQIAAAQKCvHuAAAECBAgQIECAAAECBAhskIAgv0GLZaoECBAgQIAAAQIECBAgQGAR5G+ovqie2SbJvtXT1Y3Vx9vsy8cJECBAgAABAgQIECBAgACBfwksgvzD1YfV/dsU2ll9Wp1XvbfNvnycAAECBAgQIECAAAECBAgQ2EWQf7w6o/q2+qq6rPqpuqi6rzp4/r29+rHau7qyumW+91R1a/Vd9egM8S9U71Q3V39RJ0CAAAECBAgQIECAAAECBFYjMHbkr5/B/IDqjuqR6urqnnlE/vsZ0N+oTq6uqB6srql+qO6cUzmtuqq6tHqter56QpBfzULphQABAgQIECBAgAABAgQIDIGtR+vfmoH9kOqb6vzq2cl05NytP2GG/jOro6tfqsNm4L+u+n0e0b+4eh8xAQIECBAgQIAAAQIECBAgsFqBRZB/rHq3eqA6tvqkenkWwDuwGq/Tq2urz6qX5jTGjvtz8/VbtV/1UXVhNb4YcBEgQIAAAQIECBAgQIAAAQIrFNhVkD+m+ry6be64j+H+rn6eIf7V6tDq1Llrf/Z8Pv64ahzDF+RXuEC6IkCAAAECBAgQIECAAAECWwW2Bvk359H6w6uvq5Pms+6j/V7VTdWT1Vnzp+VemR0dVX1ZjWP3o/L9CPLnOlrvRiNAgAABAgQIECBAgAABAqsX2BrkR4C/qxpF7cYR+wvmjvs4Sj8q2Y/K9EfMQH9OdcncuT9lBvzj55H8D+az9eP35N9e/ZT1SIAAAQIECBAgQIAAAQIE9lyBRZA/sXp9HpEfz8j/Ud1bXT5pRlG7Ufzuxeqg6u4Z7hdyo4L9Q7NC/ah4P74IGJXrR8j/c8/l9Z8TIECAAAECBAgQIECAAIHVCiyC/H/1uv88Vv/rLhrsU+2clepH8HcRIECAAAECBAgQIECAAAECu1ng/4L8bh5e9wQIECBAgAABAgQIECBAgMAyAoL8MlraEiBAgAABAgQIECBAgACBNQsI8mteAMMTIECAAAECBAgQIECAAIFlBAT5ZbS0JUCAAAECBAgQIECAAAECaxYQ5Ne8AIYnQIAAAQIECBAgQIAAAQLLCAjyy2hpS4AAAQIECBAgQIAAAQIE1iwgyK95AQxPgAABAgQIECBAgAABAgSWERDkl9HSlgABAgQIECBAgAABAgQIrFlAkF/zAhieAAECBAgQIECAAAECBAgsIyDIL6OlLQECBAgQIECAAAECBAgQWLPAP6a6bSD8XIaiAAAAAElFTkSuQmCC class=\"jupyter-widget\">\n",
       "<script type=\"application/vnd.jupyter-embedded-widgets\">[{},{\"value\":\"test\",\"_model_name\":\"DOMWidgetModel\",\"_view_name\":\"HelloView\",\"_view_module\":\"hello\",\"layout\":\"IPY_MODEL_d90985e79dc248f4a352853420c6f83a\"}]</script>"
      ]
     },
     "metadata": {
      "isWidgetSnapshot": true
     },
     "output_type": "display_data"
    },
    {
     "data": {
      "application/vnd.jupyter.widget": "b29ccb7d04e64feda6a4fc7d3a9ed345"
     },
     "metadata": {},
     "output_type": "display_data"
    }
   ],
   "source": [
    "w = HelloWidget()\n",
    "w"
   ]
  },
  {
   "cell_type": "code",
   "execution_count": 11,
   "metadata": {
    "collapsed": false
   },
   "outputs": [],
   "source": [
    "w.value = 'test'"
   ]
  },
  {
   "cell_type": "markdown",
   "metadata": {},
   "source": [
    "## Conclusion\n",
    "\n",
    "The example above dumps the value directly into the DOM.  There is no way for you to interact with this dumped data in the front end.  To create an example that accepts input, you will have to do something more than blindly dumping the contents of value into the DOM.  \n",
    "\n",
    "In the next section of the tutorial, you will build a date picker to display and accept input in the front end."
   ]
  },
  {
   "cell_type": "markdown",
   "metadata": {},
   "source": [
    "# Building a Custom Widget - Date Picker\n",
    "\n",
    "In the last section we created a simple widget that displayed *Hello World!*\n",
    "To make an actual date widget, we need to add a property that will be synced between the Python model and the JavaScript model.\n",
    "The new attribute must be a traitlet, so the widget machinery can handle it.\n",
    "The traitlet must be constructed with a `sync=True` keyword argument, to tell the widget machinery knows to synchronize it with the front-end.\n",
    "Adding this to the code from the last section:"
   ]
  },
  {
   "cell_type": "code",
   "execution_count": 12,
   "metadata": {
    "collapsed": false
   },
   "outputs": [],
   "source": [
    "class DateWidget(widgets.DOMWidget):\n",
    "    _view_name = Unicode('DatePickerView').tag(sync=True)\n",
    "    _view_module = Unicode('datepicker').tag(sync=True)\n",
    "    value = Unicode().tag(sync=True)"
   ]
  },
  {
   "cell_type": "markdown",
   "metadata": {},
   "source": [
    "## JavaScript\n",
    "\n",
    "In the JavaScript, there is no need to define counterparts to the traitlets.\n",
    "When the JavaScript model is created for the first time,\n",
    "it copies all of the traitlet `sync=True` attributes from the Python model.\n",
    "We need to replace *Hello World!* with an actual HTML date picker widget."
   ]
  },
  {
   "cell_type": "code",
   "execution_count": 13,
   "metadata": {
    "collapsed": false
   },
   "outputs": [
    {
     "data": {
      "application/javascript": [
       "requirejs.undef('datepicker');\n",
       "\n",
       "define('datepicker', [\"jupyter-js-widgets\"], function(widgets) {\n",
       "\n",
       "    var DatePickerView = widgets.DOMWidgetView.extend({\n",
       "        render: function() {           \n",
       "            this.date = document.createElement('input');\n",
       "            this.date.setAttribute('type', 'date');\n",
       "            this.el.appendChild(this.date);\n",
       "        },\n",
       "    });\n",
       "    \n",
       "    return {\n",
       "        DatePickerView: DatePickerView\n",
       "    };\n",
       "});"
      ],
      "text/plain": [
       "<IPython.core.display.Javascript object>"
      ]
     },
     "metadata": {},
     "output_type": "display_data"
    }
   ],
   "source": [
    "%%javascript\n",
    "requirejs.undef('datepicker');\n",
    "\n",
    "define('datepicker', [\"jupyter-js-widgets\"], function(widgets) {\n",
    "\n",
    "    var DatePickerView = widgets.DOMWidgetView.extend({\n",
    "        render: function() {           \n",
    "            this.date = document.createElement('input');\n",
    "            this.date.setAttribute('type', 'date');\n",
    "            this.el.appendChild(this.date);\n",
    "        },\n",
    "    });\n",
    "    \n",
    "    return {\n",
    "        DatePickerView: DatePickerView\n",
    "    };\n",
    "});"
   ]
  },
  {
   "cell_type": "markdown",
   "metadata": {},
   "source": [
    "In order to get the HTML date picker to update itself with the value set in the back-end, we need to implement an `update()` method."
   ]
  },
  {
   "cell_type": "code",
   "execution_count": 14,
   "metadata": {
    "collapsed": false
   },
   "outputs": [
    {
     "data": {
      "application/javascript": [
       "requirejs.undef('datepicker');\n",
       "\n",
       "define('datepicker', [\"jupyter-js-widgets\"], function(widgets) {\n",
       "    \n",
       "    var DatePickerView = widgets.DOMWidgetView.extend({\n",
       "        render: function() {\n",
       "            this.date = documentElement('input');\n",
       "            this.date.setAttribute('type', 'date');\n",
       "            this.el.appendChild(this.date);\n",
       "            this.update();\n",
       "        },\n",
       "        \n",
       "        update: function() {\n",
       "            // Set the value of the date control and then call base.\n",
       "            // ISO format \"YYYY-MM-DDTHH:mm:ss.sssZ\" is required\n",
       "            this.date.value = this.model.get('value');\n",
       "            return DatePickerView.__super__.update.apply(this);\n",
       "        },\n",
       "    });\n",
       "    \n",
       "    return {\n",
       "        DatePickerView: DatePickerView\n",
       "    };\n",
       "});"
      ],
      "text/plain": [
       "<IPython.core.display.Javascript object>"
      ]
     },
     "metadata": {},
     "output_type": "display_data"
    }
   ],
   "source": [
    "%%javascript\n",
    "requirejs.undef('datepicker');\n",
    "\n",
    "define('datepicker', [\"jupyter-js-widgets\"], function(widgets) {\n",
    "    \n",
    "    var DatePickerView = widgets.DOMWidgetView.extend({\n",
    "        render: function() {\n",
    "            this.date = documentElement('input');\n",
    "            this.date.setAttribute('type', 'date');\n",
    "            this.el.appendChild(this.date);\n",
    "            this.update();\n",
    "        },\n",
    "        \n",
    "        update: function() {\n",
    "            // Set the value of the date control and then call base.\n",
    "            // ISO format \"YYYY-MM-DDTHH:mm:ss.sssZ\" is required\n",
    "            this.date.value = this.model.get('value');\n",
    "            return DatePickerView.__super__.update.apply(this);\n",
    "        },\n",
    "    });\n",
    "    \n",
    "    return {\n",
    "        DatePickerView: DatePickerView\n",
    "    };\n",
    "});"
   ]
  },
  {
   "cell_type": "markdown",
   "metadata": {},
   "source": [
    "To get the changed value from the frontend to publish itself to the backend,\n",
    "we need to listen to the change event triggered by the HTM date control and set the value in the model.\n",
    "After the date change event fires and the new value is set in the model,\n",
    "it is very important that we call `this.touch()` to let the widget machinery know which view changed the model.\n",
    "This is important because the widget machinery needs to know which cell to route the message callbacks to.\n",
    "\n",
    "**Final JavaScript code below:**"
   ]
  },
  {
   "cell_type": "code",
   "execution_count": 15,
   "metadata": {
    "collapsed": false
   },
   "outputs": [
    {
     "data": {
      "application/javascript": [
       "requirejs.undef('datepicker');\n",
       "\n",
       "define('datepicker', [\"jupyter-js-widgets\"], function(widgets) {\n",
       "   \n",
       "    var DatePickerView = widgets.DOMWidgetView.extend({\n",
       "        render: function() {\n",
       "            this.date = document.createElement('input');\n",
       "            this.date.setAttribute('type', 'date');\n",
       "            this.el.appendChild(this.date);      \n",
       "            this.update();\n",
       "        },\n",
       "        \n",
       "        update: function() {\n",
       "            // Set the value of the date control and then call base.\n",
       "            // ISO format \"YYYY-MM-DDTHH:mm:ss.sssZ\" is required\n",
       "            this.date.value = this.model.get('value');\n",
       "            return DatePickerView.__super__.update.apply(this);\n",
       "        },\n",
       "        \n",
       "        // Tell Backbone to listen to the change event of input controls (which the HTML date picker is)\n",
       "        events: {\n",
       "            \"change\": \"handle_date_change\"\n",
       "        },\n",
       "        \n",
       "        // Callback for when the date is changed.\n",
       "        handle_date_change: function(event) {\n",
       "            this.model.set('value', this.date.value);\n",
       "            this.touch();\n",
       "        },\n",
       "    });\n",
       "    \n",
       "    return {\n",
       "        DatePickerView: DatePickerView\n",
       "    };\n",
       "});"
      ],
      "text/plain": [
       "<IPython.core.display.Javascript object>"
      ]
     },
     "metadata": {},
     "output_type": "display_data"
    }
   ],
   "source": [
    "%%javascript\n",
    "requirejs.undef('datepicker');\n",
    "\n",
    "define('datepicker', [\"jupyter-js-widgets\"], function(widgets) {\n",
    "   \n",
    "    var DatePickerView = widgets.DOMWidgetView.extend({\n",
    "        render: function() {\n",
    "            this.date = document.createElement('input');\n",
    "            this.date.setAttribute('type', 'date');\n",
    "            this.el.appendChild(this.date);      \n",
    "            this.update();\n",
    "        },\n",
    "        \n",
    "        update: function() {\n",
    "            // Set the value of the date control and then call base.\n",
    "            // ISO format \"YYYY-MM-DDTHH:mm:ss.sssZ\" is required\n",
    "            this.date.value = this.model.get('value');\n",
    "            return DatePickerView.__super__.update.apply(this);\n",
    "        },\n",
    "        \n",
    "        // Tell Backbone to listen to the change event of input controls (which the HTML date picker is)\n",
    "        events: {\n",
    "            \"change\": \"handle_date_change\"\n",
    "        },\n",
    "        \n",
    "        // Callback for when the date is changed.\n",
    "        handle_date_change: function(event) {\n",
    "            this.model.set('value', this.date.value);\n",
    "            this.touch();\n",
    "        },\n",
    "    });\n",
    "    \n",
    "    return {\n",
    "        DatePickerView: DatePickerView\n",
    "    };\n",
    "});"
   ]
  },
  {
   "cell_type": "markdown",
   "metadata": {},
   "source": [
    "## Test\n",
    "To test, create the widget the same way that the other widgets are created."
   ]
  },
  {
   "cell_type": "code",
   "execution_count": 16,
   "metadata": {
    "collapsed": false
   },
   "outputs": [
    {
     "data": {
      "image/png": "[encoded data removed]",
      "text/html": [
       "<img src=data:image/png;base64,iVBORw0KGgoAAAANSUhEUgAAA/IAAAAlCAYAAADhsdIyAAAEW0lEQVR4Xu3cMWobQRQG4BmhRpDCRVJoDCqdC5icxyAwKty5jE+RciufJzpBDmA1dunUGxwiMCSxFta7zBs+tVpm3vvea35bUk5eBAgQIECAAAECBAgQIECAQBiBHKZShRIgQIAAAQIECBAgQIAAAQJJkLcEBAgQIECAAAECBAgQIEAgkIAgH2hYSiVAgAABAgQIECBAgAABAoK8HSBAgAABAgQIECBAgAABAoEEBPlAw1IqAQIECBAgQIAAAQIECBDI19fX31NKlyn5vrx1mF7g7OzscHNz87zZbD5Pf5sbCBAgQIAAAQIECBAg0J7AS5DvU0r7oWE+53zfHoOOxgr0fX916ozVavVwe3v7c7lcXpRSfBrkFJj3CRAgQIAAAQIECBAg8A+BY5BPXdcJVlZkUoHD4fAxpfT4cokgPym1wwkQIECAAAECBAgQaFhAkG94uLW1JsjXNhH1ECBAgAABAgQIECAQUUCQjzi1oDUL8kEHp2wCBAgQIECAAAECBKoSEOSrGkfbxbwK8k+llE9td6s7AgQIECBAgAABAgQITCNwDPJPXdcJVtMYO/WPgCBvFQgQIECAAAECBAgQIDBeQJAfb+iEgQKC/EAojxEgQIAAAQIECBAgQOANAUHeeswmIMjPRu0iAgQIECBAgAABAgQaFhDkGx5uba0J8rVNRD0ECBAgQIAAAQIECEQUEOQjTi1ozYJ80MEpmwABAgQIECBAgACBqgQE+arG0XYxgnzb89UdAQIECBAgQIAAAQLzCAjy8zi7JaUkyFsDAgQIECBAgAABAgQIjBcQ5McbOmGggCA/EMpjBAgQIECAAAECBAgQeENAkLceswkI8rNRu4gAAQIECBAgQIAAgYYFBPmGh1tba4J8bRNRDwECBAgQIECAAAECEQUE+YhTC1qzIB90cMomQIAAAQIECBAgQKAqAUG+qnG0XYwg3/Z8dUeAAAECBAgQIECAwDwCgvw8zm7xq/V2gAABAgQIECBAgAABAu8icAzyqeu6/C4nOoTAfwT8R95qECBAgAABAgQIECBAYLyAID/e0AkDBV4F+VRK8YejgW4eI0CAAAECBAgQIECAwGsBQd4+zCYgyM9G7SICBAgQIECAAAECBBoWEOQbHm5trQnytU1EPQQIECBAgAABAgQIRBT4HeQXi8Xh7u7ua8QG1BxHIOf8Ief8LaWUfbQ+ztxUSoAAAQIECBAgQIBAXQJ5t9s9bLfb5/Pz84u6SlNNiwI5533f95ellEWL/emJAAECBAgQIECAAAECUwvk/X7/Y0iIzznfT12M8+ML9H1/daqLlzC/Xq+/nHrO+wQIECBAgAABAgQIECDwt4BfDrcVBAgQIECAAAECBAgQIEAgkIAgH2hYSiVAgAABAgQIECBAgAABAoK8HSBAgAABAgQIECBAgAABAoEEBPlAw1IqAQIECBAgQIAAAQIECBAQ5O0AAQIECBAgQIAAAQIECBAIJPALwv3tJtcNMVEAAAAASUVORK5CYII= class=\"jupyter-widget\">\n",
       "<script type=\"application/vnd.jupyter-embedded-widgets\">[{},{\"value\":\"1998-12-01\",\"_model_name\":\"DOMWidgetModel\",\"_view_name\":\"DatePickerView\",\"_view_module\":\"datepicker\",\"layout\":\"IPY_MODEL_45f3dcfdf8754377b65b541bba927520\"}]</script>"
      ]
     },
     "metadata": {
      "isWidgetSnapshot": true
     },
     "output_type": "display_data"
    },
    {
     "data": {
      "application/vnd.jupyter.widget": "2ec9a85ec0e74a848a50b8f13e2bf347"
     },
     "metadata": {},
     "output_type": "display_data"
    }
   ],
   "source": [
    "my_widget = DateWidget()\n",
    "my_widget"
   ]
  },
  {
   "cell_type": "markdown",
   "metadata": {},
   "source": [
    "Display the widget again to make sure that both views remain in sync."
   ]
  },
  {
   "cell_type": "code",
   "execution_count": 17,
   "metadata": {
    "collapsed": false
   },
   "outputs": [
    {
     "data": {
      "image/png": "[encoded data removed]",
      "text/html": [
       "<img src=data:image/png;base64,iVBORw0KGgoAAAANSUhEUgAAA/IAAAAlCAYAAADhsdIyAAAKTElEQVR4Xu3de2jNfxzH8fdmDrG5bTFzy20ljMyt3Elhm1BI8o/LCluIkEiR+z333HInd0rJXe4SIWnkumgRuS1M9uv9/v3OaWc75+xsZ7/Z2Xl+StnO9/v5fr6Pz9kfr+/n8g0TCgIIIIAAAggggAACCCCAAAIIBI1AWNC0lIYigAACCCCAAAIIIIAAAggggIAQ5PkSIIAAAggggAACCCCAAAIIIBBEAgT5IOosmooAAggggAACCCCAAAIIIIAAQZ7vAAIIIIAAAggggAACCCCAAAJBJECQD6LOoqkIIIAAAggggAACCCCAAAIIhC1fvjw3IyMDCQRKTSAtLS0nISHBUWoX5EIIIIAAAggggAACCCCAQDkSCEtNTc2Nj48Xwnw56tUyfCvp6ekSHR0tcXFxzAYpw/1E0xBAAAEEEEAAAQQQQKDsCliQ1+Zt3ry57LaSlpULgT9//khWVpbdC0G+XHQpN4EAAggggAACCCCAAAJ/QYAg/xfQQ/WSBPlQ7XnuGwEEEEAAAQQQQAABBEpSgCBfkprU5VOAIM8XBAEEEEAAAQQQQAABBBAIXIAgH7ghNfgpQJD3E4rDEEAAAQQQQAABBBBAAAEfAj6D/NOnT6Vx48YSERHhVsX79+/l48ePEhkZKfXq1StQ/Zs3b+Tnz59Ss2ZN29gsf3n79q1kZ2dLTEyM1KhRo0gd5KtNnz9/lqioKKlTp45fdWob3r17Z8c2bNhQKlasWOA8vY/MzExp2rSpX3VykHcBZ5APDw//ExsbWwErBBBAAAEEEEAAAQQQQACBogtYkNdAvmLFCrezb9++LZ06dbLAroFcy+/fv2XmzJlux44ePdo2ytOw/+HDBxkwYIDcuXPHVdeWLVtk7Nix9vPLly8lKSlJHj9+7Pr8wIEDMnz4cL9a7qlNubm5snDhQpk9e7arDr2G1qv35a3cunVLOnfu7Pq4du3acu3aNWnWrJnbKRs2bJD169fLgwcPpEIFsqdfHeXlIIJ8IHqciwACCCCAAAIIIIAAAgj8K1AgyF+8eFEuXbok8+bNEw23T548cQX5jRs3yoQJE+TMmTPSrVs3uXDhgiQnJ4uG9TFjxsjQoUNFA/LZs2elQYMGsmnTJpk2bZrcv39f2rRpY4Fe6z99+rSN5OsDgKVLl7pdw1PH+GrTuXPnpG/fvnLw4EF7iKBhv0+fPrJgwQKZNWuWx37+/v27dOzYUVq2bCnr1q2THz9+SEpKilSvXt3uScvJkyft386dO2XYsGGyf/9+CQ8P53sTgABBPgA8TkUAAQQQQAABBBBAAAEE/hMoEOR37Nhhwfrr169y5MgRt5CtQbxu3boyf/58F6CO0OsI+969e6Vt27Y2et2vXz/7PCcnR9q3by+pqan2r0uXLjb6PnXqVPv80aNH0rp1a3n9+rUFf2/FV5tGjBhh1793754raE+aNMl+1gcAnkbR9f5atGjhdl09vkePHpKRkWFT/ufOnSsOh0N27dpl90CQD/xvhiAfuCE1IIAAAggggAACCCCAAAJep9brNHidWp93RF6DfK1atWwU3Vk0yB86dEiuX78uvXv3lsWLF9votjPIa3hPSEiwUXsdoZ8xY4aFYp3CPmfOHNH18jqqXrly5UJ7w1Ob7t69a23Stfx5r6kPFXTEPywsrEC9hw8flokTJ4qut69WrZp9rv+Pj4+3ZQEa3J3lxIkTsnr1ajl//jwj8oX2kO8DCPIBAnI6AggggAACCCCAAAIIIOBpar1TRYNt165d3YL8okWLbLr6zZs3LeTrKHa7du1sCr6Org8ePNg2j9NQrxvO6Tp1HTHXYH/s2DGrq1WrVm7wGuZ1Gr8/xVOb8p6nG9NNnjzZHhhoe3TqvKeyb98+GTlypGRlZVnbtej0ej1ep+jnDfL6kELXyRPk/ekhgnzgStSAAAIIIIAAAggggAACCPgW8Doi7yk06271ukHc8+fP3WqtX7++bQb37NkzW3uev+iGeGvXrpUOHTpI1apVbaRcA7SuT9cR/MuXL9uUfR0RdxYN/8ePH3cbBfcV5B8+fCiDBg2ytuk69169erlG2fPXqQ8YpkyZ4vaQQkf7dVQ//4g8Qb7k/oQYkS85S2pCAAEEEEAAAQQQQACB0BUoUpBXJt25XoO37lCv09d1ffqqVatc69H191evXpVfv37Zhng6it+oUSMZOHCgBXUd2dYp+Fp0FDwxMdE20NMN5TS4V6pUyT7TwD9kyBC3qfHegvyePXtk1KhRttmeToOPi4uzOvTBg6c6tQ06Ip932YA+hGjevLnoVH2dZeAsBPmS++MgyJecJTUhgAACCCCAAAIIIIBA6AoUKcjrbvO6Y/2aNWtMTF/9puG5SZMmtm5eN4jT6ekayrXo7vD62datWy0k6wZzV65csYDv/FxH8MePHy9paWmF9oKnIK/T+HUdflFeY+ccfb9x44brFXS6Q/24ceMK7KBPkC+0W/w+gCDvNxUHIoAAAggggAACCCCAAAJeBYoU5HUkvmfPnrZxne5Mr5vWTZ8+3TUdfcmSJfbaN91MTkffNZzrVHUd+a5SpYoFeF1Dr+vQo6OjZdmyZbJt2zbX6+kK66f8QV4fJGj41ocLWqfOAtDfaYmNjbUHB56KzirQ+3j16pW9Cu/bt282LV+n8+u95d0gjyBfWK/4/zlB3n8rjkQAAQQQQAABBBBAAAEEvAkUKchrANaN5NLT0131HT161Da50/Lp0ycbldf18Fp0HbzuSK+vmNOSmZkpul5e3zOvJSoqyh4GJCUl+dVD+YO8Ts3v3r27PSzIX1auXGnr4L2VFy9eSHJysi0N0NK/f3/ZvXu3PWDIW3Rq/vbt2wus1/erwRzkJkCQ5wuBAAIIIIAAAggggAACCAQu4DXI+6paR771HfH6jnZPr43Lzs62tfQ6Ch8REVGgKuf5ug7+b5cvX77YhnqRkZF/uynl/voE+XLfxdwgAggggAACCCCAAAIIlIJAsYJ8KbSLS5RDAYJ8OexUbgkBBBBAAAEEEEAAAQRKXcCCvF5VXwlHQeD/FCDI/5+61I0AAggggAACCCCAAAKhIkCQD5WeLgP36Qzy2pS4uLiwMtAkmoAAAggggAACCCCAAAIIBJ0AQT7ouix4G0yQD96+o+UIIIAAAggggAACCCBQdgQI8mWnL8p9Swjy5b6LuUEEEEAAAQQQQAABBBAoBQGCfCkgc4l/BQjyfBMQQAABBBBAAAEEEEAAgcAFLMinpKRIYmJi4LVRAwKFCDgcDtHXD7JGnq8KAggggAACCCCAAAIIIFA8gbBTp07lEuKLh8dZxRNwOBw5MTExjuKdzVkIIIAAAggggAACCCCAQGgLsHN4aPc/d48AAggggAACCCCAAAIIIBBkAgT5IOswmosAAggggAACCCCAAAIIIBDaAgT50O5/7h4BBBBAAAEEEEAAAQQQQCDIBAjyQdZhNBcBBBBAAAEEEEAAAQQQQCC0BQjyod3/3D0CCCCAAAIIIIAAAggggECQCfwDr5EgYk2CuhYAAAAASUVORK5CYII= class=\"jupyter-widget\">\n",
       "<script type=\"application/vnd.jupyter-embedded-widgets\">[{},{\"value\":\"1998-12-01\",\"_model_name\":\"DOMWidgetModel\",\"_view_name\":\"DatePickerView\",\"_view_module\":\"datepicker\",\"layout\":\"IPY_MODEL_45f3dcfdf8754377b65b541bba927520\"}]</script>"
      ]
     },
     "metadata": {
      "isWidgetSnapshot": true
     },
     "output_type": "display_data"
    },
    {
     "data": {
      "application/vnd.jupyter.widget": "2ec9a85ec0e74a848a50b8f13e2bf347"
     },
     "metadata": {},
     "output_type": "display_data"
    }
   ],
   "source": [
    "my_widget"
   ]
  },
  {
   "cell_type": "markdown",
   "metadata": {
    "collapsed": true
   },
   "source": [
    "Read the date from Python"
   ]
  },
  {
   "cell_type": "code",
   "execution_count": 18,
   "metadata": {
    "collapsed": false
   },
   "outputs": [
    {
     "data": {
      "text/plain": [
       "''"
      ]
     },
     "execution_count": 18,
     "metadata": {},
     "output_type": "execute_result"
    }
   ],
   "source": [
    "my_widget.value"
   ]
  },
  {
   "cell_type": "markdown",
   "metadata": {
    "collapsed": true
   },
   "source": [
    "Set the date from Python"
   ]
  },
  {
   "cell_type": "code",
   "execution_count": 19,
   "metadata": {
    "collapsed": true
   },
   "outputs": [],
   "source": [
    "my_widget.value = \"1998-12-01\" # December 1st, 1998"
   ]
  },
  {
   "cell_type": "markdown",
   "metadata": {},
   "source": [
    "# Building a Custom Widget - A More Advanced Date Picker"
   ]
  },
  {
   "cell_type": "markdown",
   "metadata": {},
   "source": [
    "The 3rd party `dateutil` library is required to continue.  https://pypi.python.org/pypi/python-dateutil"
   ]
  },
  {
   "cell_type": "markdown",
   "metadata": {},
   "source": [
    "## Import the dateutil library to parse date strings."
   ]
  },
  {
   "cell_type": "code",
   "execution_count": 20,
   "metadata": {
    "collapsed": true
   },
   "outputs": [],
   "source": [
    "from dateutil import parser"
   ]
  },
  {
   "cell_type": "markdown",
   "metadata": {
    "collapsed": true
   },
   "source": [
    "In the last section we created a fully working date picker widget.\n",
    "Now we will add custom validation and support for labels.\n",
    "So far, only the ISO date format \"YYYY-MM-DD\" is supported.\n",
    "Now, we will add support for all of the date formats recognized by the Python dateutil library."
   ]
  },
  {
   "cell_type": "markdown",
   "metadata": {
    "collapsed": true
   },
   "source": [
    "## Python"
   ]
  },
  {
   "cell_type": "markdown",
   "metadata": {
    "collapsed": true
   },
   "source": [
    "The standard property name used for widget labels is `description`.\n",
    "In the code block below, `description` has been added to the Python widget."
   ]
  },
  {
   "cell_type": "code",
   "execution_count": 21,
   "metadata": {
    "collapsed": true
   },
   "outputs": [],
   "source": [
    "class DateWidget(widgets.DOMWidget):\n",
    "    _view_name = Unicode('DatePickerView').tag(sync=True)\n",
    "    _view_module = Unicode('datepicker').tag(sync=True)\n",
    "    value = Unicode().tag(sync=True)\n",
    "    description = Unicode().tag(sync=True)"
   ]
  },
  {
   "cell_type": "markdown",
   "metadata": {},
   "source": [
    "Adding a custom validator for `value`"
   ]
  },
  {
   "cell_type": "code",
   "execution_count": 22,
   "metadata": {
    "collapsed": true
   },
   "outputs": [],
   "source": [
    "class DateWidget(widgets.DOMWidget):\n",
    "    _view_name = Unicode('DatePickerView').tag(sync=True)\n",
    "    _view_module = Unicode('datepicker').tag(sync=True)\n",
    "    value = Unicode().tag(sync=True)\n",
    "    description = Unicode().tag(sync=True)\n",
    "    \n",
    "    @validate('value')\n",
    "    def _validate_value(self, proposal):\n",
    "        value = proposal['value']\n",
    "        try:\n",
    "            parsed_date = parser.parse(value)\n",
    "            parsed_date_string = parsed_date.strftime(\"%Y-%m-%d\")\n",
    "        except:\n",
    "            parsed_date_string = ''\n",
    "        return parsed_date_string"
   ]
  },
  {
   "cell_type": "markdown",
   "metadata": {},
   "source": [
    "## JavaScript"
   ]
  },
  {
   "cell_type": "markdown",
   "metadata": {},
   "source": [
    "Using the Javascript code from the last section,\n",
    "we add a label to the date time object.\n",
    "The label is a div with the `widget-hlabel` class applied to it.\n",
    "`widget-hlabel` is a class provided by the widget framework that applies special styling to a div to make it look like the rest of the horizontal labels used with the built-in widgets.\n",
    "Similar to the `widget-hlabel` class is the `widget-hbox-single` class.\n",
    "The `widget-hbox-single` class applies special styling to widget containers that store a single line horizontal widget.\n",
    "\n",
    "We hide the label if the description value is blank."
   ]
  },
  {
   "cell_type": "code",
   "execution_count": 23,
   "metadata": {
    "collapsed": false
   },
   "outputs": [
    {
     "data": {
      "application/javascript": [
       "requirejs.undef('datepicker');\n",
       "\n",
       "define('datepicker', [\"jupyter-js-widgets\"], function(widgets) {\n",
       "    \n",
       "    // Define the DatePickerView\n",
       "    var DatePickerView = widgets.DOMWidgetView.extend({\n",
       "        render: function() {\n",
       "            // apply the standard widget classes so the css styles are consistent\n",
       "            this.el.className = 'widget-hbox jupyter-widgets widget-width';\n",
       "            \n",
       "            this.label = document.createElement('div')\n",
       "            this.label.className = 'widget-label';\n",
       "            this.label.style.display = 'none';\n",
       "\n",
       "            this.date = document.createElement('input');\n",
       "            this.date.className = \"form-control\";\n",
       "            this.date.setAttribute('type', 'date');\n",
       "            \n",
       "            this.el.appendChild(this.label);\n",
       "            this.el.appendChild(this.date);\n",
       "            \n",
       "            this.update();\n",
       "        },\n",
       "        \n",
       "        update: function() {\n",
       "            // Set the value of the date control and then call base.\n",
       "            // ISO format \"YYYY-MM-DDTHH:mm:ss.sssZ\" is required\n",
       "            this.date.value = this.model.get('value');\n",
       "            \n",
       "            // Hide or show the label depending on the existance of a description.\n",
       "            var description = this.model.get('description');\n",
       "            if (description == undefined || description == '') {\n",
       "                this.label.style.display = 'none';\n",
       "            } else {\n",
       "                this.label.innerText = description;\n",
       "                this.label.style.display = '';\n",
       "            }\n",
       "            return DatePickerView.__super__.update.apply(this);\n",
       "        },\n",
       "        \n",
       "        // Tell Backbone to listen to the change event of input controls (which the HTML date picker is)\n",
       "        events: {\n",
       "            \"change\": \"handle_date_change\"\n",
       "        },\n",
       "        \n",
       "        // Callback for when the date is changed.\n",
       "        handle_date_change: function(event) {\n",
       "            this.model.set('value', this.date.value);\n",
       "            this.touch();\n",
       "        },\n",
       "    });\n",
       "    \n",
       "    return {\n",
       "        DatePickerView: DatePickerView\n",
       "    };\n",
       "});"
      ],
      "text/plain": [
       "<IPython.core.display.Javascript object>"
      ]
     },
     "metadata": {},
     "output_type": "display_data"
    }
   ],
   "source": [
    "%%javascript\n",
    "requirejs.undef('datepicker');\n",
    "\n",
    "define('datepicker', [\"jupyter-js-widgets\"], function(widgets) {\n",
    "    \n",
    "    // Define the DatePickerView\n",
    "    var DatePickerView = widgets.DOMWidgetView.extend({\n",
    "        render: function() {\n",
    "            // apply the standard widget classes so the css styles are consistent\n",
    "            this.el.className = 'widget-hbox jupyter-widgets widget-width';\n",
    "            \n",
    "            this.label = document.createElement('div')\n",
    "            this.label.className = 'widget-label';\n",
    "            this.label.style.display = 'none';\n",
    "\n",
    "            this.date = document.createElement('input');\n",
    "            this.date.className = \"form-control\";\n",
    "            this.date.setAttribute('type', 'date');\n",
    "            \n",
    "            this.el.appendChild(this.label);\n",
    "            this.el.appendChild(this.date);\n",
    "            \n",
    "            this.update();\n",
    "        },\n",
    "        \n",
    "        update: function() {\n",
    "            // Set the value of the date control and then call base.\n",
    "            // ISO format \"YYYY-MM-DDTHH:mm:ss.sssZ\" is required\n",
    "            this.date.value = this.model.get('value');\n",
    "            \n",
    "            // Hide or show the label depending on the existance of a description.\n",
    "            var description = this.model.get('description');\n",
    "            if (description == undefined || description == '') {\n",
    "                this.label.style.display = 'none';\n",
    "            } else {\n",
    "                this.label.innerText = description;\n",
    "                this.label.style.display = '';\n",
    "            }\n",
    "            return DatePickerView.__super__.update.apply(this);\n",
    "        },\n",
    "        \n",
    "        // Tell Backbone to listen to the change event of input controls (which the HTML date picker is)\n",
    "        events: {\n",
    "            \"change\": \"handle_date_change\"\n",
    "        },\n",
    "        \n",
    "        // Callback for when the date is changed.\n",
    "        handle_date_change: function(event) {\n",
    "            this.model.set('value', this.date.value);\n",
    "            this.touch();\n",
    "        },\n",
    "    });\n",
    "    \n",
    "    return {\n",
    "        DatePickerView: DatePickerView\n",
    "    };\n",
    "});"
   ]
  },
  {
   "cell_type": "markdown",
   "metadata": {},
   "source": [
    "## Test\n",
    "To test the drawing of the label we create the widget like normal but supply the additional description property a value."
   ]
  },
  {
   "cell_type": "code",
   "execution_count": 24,
   "metadata": {
    "collapsed": false
   },
   "outputs": [
    {
     "data": {
      "image/png": "[encoded data removed]",
      "text/html": [
       "<img src=data:image/png;base64,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 class=\"jupyter-widget\">\n",
       "<script type=\"application/vnd.jupyter-embedded-widgets\">[{},{\"description\":\"First:\",\"layout\":\"IPY_MODEL_65c3e72f84b6433a8cd5bfc0c70b4605\"},{},{\"description\":\"Last:\",\"layout\":\"IPY_MODEL_f14edc1ec2a44ced85622f45f4bc27e6\"},{},{\"_model_name\":\"DOMWidgetModel\",\"value\":\"\",\"description\":\"DOB:\",\"_view_name\":\"DatePickerView\",\"_view_module\":\"datepicker\",\"layout\":\"IPY_MODEL_1afbb3c1d0a14caa86db862a1fb3282b\"},{\"flex_flow\":\"column\",\"align_items\":\"stretch\",\"display\":\"flex\"},{\"children\":[\"IPY_MODEL_bfe68f59161944f182e066957f6adc23\",\"IPY_MODEL_c7d7393376d94490848c2baca3f3c920\",\"IPY_MODEL_b09af158b3d34f5cb9789b36039399fd\"],\"layout\":\"IPY_MODEL_3d1d046a41e84c9d8521ccc98db5ea80\"}]</script>"
      ]
     },
     "metadata": {
      "isWidgetSnapshot": true
     },
     "output_type": "display_data"
    },
    {
     "data": {
      "application/vnd.jupyter.widget": "5fbd63ad145d490c82a9ce44c24f6c49"
     },
     "metadata": {},
     "output_type": "display_data"
    }
   ],
   "source": [
    "# Add some additional widgets for aesthetic purpose\n",
    "my_widget = DateWidget()\n",
    "my_widget.description=\"DOB:\"\n",
    "\n",
    "widgets.VBox([widgets.Text(description=\"First:\"),\n",
    "              widgets.Text(description=\"Last:\"),\n",
    "              my_widget])"
   ]
  },
  {
   "cell_type": "markdown",
   "metadata": {},
   "source": [
    "## More advanced uses: Packaging and distributing Jupyter widgets\n",
    "\n",
    "A template project is available in the form of a cookie cutter: https://github.com/jupyter/widget-cookiecutter\n",
    "\n",
    "This project is meant to help custom widget authors get started with the packaging and the distribution of Jupyter interactive widgets.\n",
    "\n",
    "It produces a project for a Jupyter interactive widget library following the current best practices for using interactive widgets. An implementation for a placeholder \"Hello World\" widget is provided."
   ]
  },
  {
   "cell_type": "markdown",
   "metadata": {
     "nbsphinx": "hidden"
   },
   "source": [
    "[Index](Index.ipynb) - [Back](Widget Styling.ipynb)"
   ]
  }
 ],
 "metadata": {
  "kernelspec": {
   "display_name": "Python 3",
   "language": "python",
   "name": "python3"
  },
  "language_info": {
   "codemirror_mode": {
    "name": "ipython",
    "version": 3
   },
   "file_extension": ".py",
   "mimetype": "text/x-python",
   "name": "python",
   "nbconvert_exporter": "python",
   "pygments_lexer": "ipython3",
   "version": "3.5.2"
  },
  "widgets": {
   "state": {
    "1ae39d69c79e4ecc928971451895aa3d": {
     "views": [
      {
       "cell_index": 30
      }
     ]
    },
    "2ec9a85ec0e74a848a50b8f13e2bf347": {
     "views": [
      {
       "cell_index": 55
      },
      {
       "cell_index": 57
      }
     ]
    },
    "5fbd63ad145d490c82a9ce44c24f6c49": {
     "views": [
      {
       "cell_index": 76
      }
     ]
    },
    "b29ccb7d04e64feda6a4fc7d3a9ed345": {
     "views": [
      {
       "cell_index": 43
      }
     ]
    }
   },
   "version": "2.0.0-dev"
  }
 },
 "nbformat": 4,
 "nbformat_minor": 1
}
